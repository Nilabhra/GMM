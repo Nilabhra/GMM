{
 "cells": [
  {
   "cell_type": "code",
   "execution_count": 58,
   "metadata": {
    "collapsed": true
   },
   "outputs": [],
   "source": [
    "import numpy as np\n",
    "import matplotlib.pyplot as plt\n",
    "import seaborn as sns\n",
    "\n",
    "%matplotlib inline"
   ]
  },
  {
   "cell_type": "markdown",
   "metadata": {},
   "source": [
    "## Defining a class describing Gaussian distribution:"
   ]
  },
  {
   "cell_type": "code",
   "execution_count": 2,
   "metadata": {
    "collapsed": true
   },
   "outputs": [],
   "source": [
    "class GaussianDist:\n",
    "    \n",
    "    def __init__(self, mean, std):\n",
    "        self.mean = mean\n",
    "        self.std = std\n",
    "        \n",
    "    def pred(self, x):\n",
    "        return 1/(np.sqrt(2 * np.pi) * self.std)\\\n",
    "            * np.exp(-((x - self.mean) ** 2)/(2 * (self.std ** 2)))\n",
    "    \n",
    "    def update(self, mean, std):\n",
    "        self.mean = mean\n",
    "        self.std = std\n",
    "        \n",
    "    def report(self):\n",
    "        print('mean: {}, std: {}'.format(self.mean, self.std))"
   ]
  },
  {
   "cell_type": "markdown",
   "metadata": {},
   "source": [
    "## A class to handle linear combinations of multiple 1D Gaussian distributions and also implement the Expectation and Maximization steps."
   ]
  },
  {
   "cell_type": "code",
   "execution_count": 92,
   "metadata": {
    "collapsed": true
   },
   "outputs": [],
   "source": [
    "class GaussianMixture:\n",
    "    \n",
    "    def __init__(self, dist, k, init_vals, data):\n",
    "        self.dists = {}\n",
    "        self.mweights = {}\n",
    "        self.k = k\n",
    "        for i in range(self.k):\n",
    "            self.dists[i] = dist(init_vals[i]['mean'],\n",
    "                                 init_vals[i]['std'])\n",
    "            self.mweights[i] = init_vals[i]['weight']\n",
    "        self.data = data\n",
    "        self.n = data.shape[0]\n",
    "        self.probs = np.zeros(shape=(self.n, self.k), dtype=np.float32)\n",
    "        \n",
    "    def expect(self):\n",
    "        for i in range(self.k):\n",
    "            self.probs[:, i] = self.dists[i].pred(self.data)\n",
    "            self.probs[:, i] *= self.mweights[i]        \n",
    "        self.probs /= self.probs.sum(axis=1).reshape(-1, 1)\n",
    "        \n",
    "    def maximize(self):\n",
    "        nk = self.probs.sum(axis=0)\n",
    "        for i in range(self.k):\n",
    "            self.mweights[i] = nk[i] / self.n\n",
    "            mean = (self.probs[:, i] * self.data).sum() / nk[i]\n",
    "            std = np.sqrt((((self.data - mean) ** 2) * self.probs[:, i]).sum() / nk[i])\n",
    "            self.dists[i].update(mean, std)\n",
    "    \n",
    "    # Computing average log likelihood\n",
    "    def loglh(self):\n",
    "        llh = 0.0\n",
    "        for i in range(self.k):\n",
    "            llh += self.mweights[i] * self.dists[i].pred(self.data)\n",
    "        llh = np.log(llh)\n",
    "        return - llh.mean()\n",
    "\n",
    "    def report(self):\n",
    "        for i in range(self.k):\n",
    "            print('Distribution {}:'.format(i + 1))\n",
    "            self.dists[i].report()"
   ]
  },
  {
   "cell_type": "markdown",
   "metadata": {},
   "source": [
    "## Generating data to test the model"
   ]
  },
  {
   "cell_type": "code",
   "execution_count": 143,
   "metadata": {
    "collapsed": true
   },
   "outputs": [],
   "source": [
    "x1 = np.random.normal(loc=2.0, scale=12, size=(5000))"
   ]
  },
  {
   "cell_type": "code",
   "execution_count": 144,
   "metadata": {
    "collapsed": true
   },
   "outputs": [],
   "source": [
    "x2 = np.random.normal(loc=50.0, scale=20, size=(5000))"
   ]
  },
  {
   "cell_type": "code",
   "execution_count": 146,
   "metadata": {
    "collapsed": true
   },
   "outputs": [],
   "source": [
    "X = np.concatenate([x1, x2])\n",
    "np.random.shuffle(X)"
   ]
  },
  {
   "cell_type": "code",
   "execution_count": 147,
   "metadata": {},
   "outputs": [
    {
     "data": {
      "text/plain": [
       "<matplotlib.axes._subplots.AxesSubplot at 0x1a1e5d7208>"
      ]
     },
     "execution_count": 147,
     "metadata": {},
     "output_type": "execute_result"
    },
    {
     "data": {
      "image/png": "[encoded data removed]",
      "text/plain": [
       "<matplotlib.figure.Figure at 0x1a1e704470>"
      ]
     },
     "metadata": {},
     "output_type": "display_data"
    }
   ],
   "source": [
    "sns.distplot(X, bins=200, kde=False)"
   ]
  },
  {
   "cell_type": "markdown",
   "metadata": {},
   "source": [
    "## Initializing a mixture model with 2 components with arbitary initial values for mean and standard deviations"
   ]
  },
  {
   "cell_type": "code",
   "execution_count": 149,
   "metadata": {
    "collapsed": true
   },
   "outputs": [],
   "source": [
    "threshold = 1e-6\n",
    "init_vals = {}\n",
    "init_vals[0] = {'mean': 5, 'std': 5, 'weight': 0.3}\n",
    "init_vals[1] = {'mean': 20, 'std': 10, 'weight': 0.2}\n",
    "mix = GaussianMixture(GaussianDist, 2, init_vals, X)"
   ]
  },
  {
   "cell_type": "markdown",
   "metadata": {},
   "source": [
    "## Training with early stopping"
   ]
  },
  {
   "cell_type": "code",
   "execution_count": 150,
   "metadata": {},
   "outputs": [
    {
     "name": "stdout",
     "output_type": "stream",
     "text": [
      "8.510389784\n",
      "4.71684064377\n",
      "4.70496428238\n",
      "4.7013363545\n",
      "4.69956149532\n",
      "4.69833562334\n",
      "4.69732554632\n",
      "4.6964383464\n",
      "4.69564142504\n",
      "4.69491681211\n",
      "4.69425122256\n",
      "4.6936386135\n",
      "4.69306980047\n",
      "4.69254194754\n",
      "4.69204852874\n",
      "4.69158959784\n",
      "4.69116166247\n",
      "4.69075978633\n",
      "4.69038881001\n",
      "4.69004260519\n",
      "4.68972353247\n",
      "4.68942913955\n",
      "4.68915976254\n",
      "4.6889120553\n",
      "4.68868973175\n",
      "4.68848993443\n",
      "4.68830989174\n",
      "4.68814997529\n",
      "4.68800865588\n",
      "4.68788611189\n",
      "4.68777731991\n",
      "4.68768310068\n",
      "4.68760155204\n",
      "4.6875317972\n",
      "4.68747116915\n",
      "4.68742020228\n",
      "4.68737638305\n",
      "4.68733912721\n",
      "4.68730766045\n",
      "4.68728175094\n",
      "4.68725884897\n",
      "4.68723941349\n",
      "4.68722387962\n",
      "4.68721124741\n",
      "4.68719994211\n",
      "4.68719031335\n",
      "4.68718261618\n",
      "4.68717624578\n",
      "4.68717067044\n",
      "4.68716628973\n",
      "4.68716260823\n",
      "4.68715956623\n",
      "4.68715699786\n",
      "4.68715476857\n",
      "4.68715309913\n",
      "4.68715168149\n",
      "4.6871504671\n",
      "4.68714946383\n",
      "4.6871487778\n",
      "4.6871487778\n",
      "4.6871487778\n",
      "4.6871487778\n",
      "4.6871487778\n",
      "4.6871487778\n",
      "4.6871487778\n",
      "4.6871487778\n",
      "4.6871487778\n",
      "4.6871487778\n",
      "4.6871487778\n",
      "4.6871487778\n",
      "4.6871487778\n",
      "4.6871487778\n",
      "4.6871487778\n",
      "4.6871487778\n",
      "4.6871487778\n",
      "4.6871487778\n",
      "4.6871487778\n",
      "4.6871487778\n",
      "4.6871487778\n",
      "4.6871487778\n",
      "4.6871487778\n",
      "4.6871487778\n",
      "4.6871487778\n",
      "4.6871487778\n",
      "4.6871487778\n",
      "4.6871487778\n",
      "4.6871487778\n",
      "4.6871487778\n",
      "4.6871487778\n",
      "4.6871487778\n",
      "4.6871487778\n",
      "4.6871487778\n",
      "4.6871487778\n",
      "4.6871487778\n",
      "4.6871487778\n",
      "4.6871487778\n",
      "4.6871487778\n",
      "4.6871487778\n",
      "4.6871487778\n",
      "4.6871487778\n",
      "4.6871487778\n",
      "4.6871487778\n",
      "4.6871487778\n",
      "4.6871487778\n",
      "4.6871487778\n",
      "4.6871487778\n",
      "4.6871487778\n",
      "4.6871487778\n",
      "4.6871487778\n",
      "4.6871487778\n",
      "4.6871487778\n",
      "4.6871487778\n",
      "4.6871487778\n",
      "4.6871487778\n",
      "4.6871487778\n",
      "4.6871487778\n",
      "4.6871487778\n",
      "4.6871487778\n",
      "4.6871487778\n",
      "4.6871487778\n",
      "4.6871487778\n",
      "4.6871487778\n",
      "4.6871487778\n",
      "4.6871487778\n",
      "4.6871487778\n",
      "4.6871487778\n",
      "4.6871487778\n",
      "4.6871487778\n",
      "4.6871487778\n",
      "4.6871487778\n",
      "4.6871487778\n",
      "4.6871487778\n",
      "4.6871487778\n",
      "4.6871487778\n",
      "4.6871487778\n",
      "4.6871487778\n",
      "4.6871487778\n",
      "4.6871487778\n",
      "4.6871487778\n",
      "4.6871487778\n",
      "4.6871487778\n",
      "4.6871487778\n",
      "4.6871487778\n",
      "4.6871487778\n",
      "4.6871487778\n",
      "4.6871487778\n",
      "4.6871487778\n",
      "4.6871487778\n",
      "4.6871487778\n",
      "4.6871487778\n",
      "4.6871487778\n",
      "4.6871487778\n",
      "4.6871487778\n",
      "4.6871487778\n",
      "4.6871487778\n",
      "4.6871487778\n",
      "4.6871487778\n",
      "4.6871487778\n",
      "Tolerance exceeded, early stopping employed!\n"
     ]
    }
   ],
   "source": [
    "best_score = 0.0\n",
    "max_tolerance = 100\n",
    "tolerance = 0\n",
    "for i in range(10000):\n",
    "    mix.expect()\n",
    "    loglikelihood = mix.loglh()\n",
    "    print(mix.loglh())\n",
    "    if np.isnan(loglikelihood) or np.isinf(loglikelihood):\n",
    "        break\n",
    "    else:\n",
    "        if np.abs(loglikelihood - best_score) >= threshold:\n",
    "            best_score = loglikelihood\n",
    "            mix.maximize()\n",
    "            tolerance = 0\n",
    "        else:\n",
    "            tolerance += 1\n",
    "            if tolerance >= max_tolerance:\n",
    "                print('Tolerance exceeded, early stopping employed!')\n",
    "                break"
   ]
  },
  {
   "cell_type": "markdown",
   "metadata": {},
   "source": [
    "## Reporting the mean and standard deviation of the estimated distributions"
   ]
  },
  {
   "cell_type": "code",
   "execution_count": 151,
   "metadata": {},
   "outputs": [
    {
     "name": "stdout",
     "output_type": "stream",
     "text": [
      "Distribution 1:\n",
      "mean: 2.0662763363917116, std: 12.003983130517984\n",
      "Distribution 2:\n",
      "mean: 50.45735611262232, std: 19.99410424693115\n"
     ]
    }
   ],
   "source": [
    "mix.report()"
   ]
  },
  {
   "cell_type": "markdown",
   "metadata": {},
   "source": [
    "## Comparing with the original disribution"
   ]
  },
  {
   "cell_type": "code",
   "execution_count": 152,
   "metadata": {},
   "outputs": [
    {
     "data": {
      "text/plain": [
       "<matplotlib.axes._subplots.AxesSubplot at 0x1a1ea95c88>"
      ]
     },
     "execution_count": 152,
     "metadata": {},
     "output_type": "execute_result"
    },
    {
     "data": {
      "image/png": "[encoded data removed]",
      "text/plain": [
       "<matplotlib.figure.Figure at 0x1a1ea58c18>"
      ]
     },
     "metadata": {},
     "output_type": "display_data"
    }
   ],
   "source": [
    "sns.distplot(X, bins=200, kde=False)\n",
    "X_ = np.concatenate([np.random.normal(2.0662763363917116, 12.003983130517984, size=5000),\n",
    "                     np.random.normal(50.45735611262232, 19.99410424693115, size=5000)])\n",
    "sns.distplot(X_, bins=200, kde=False)"
   ]
  },
  {
   "cell_type": "markdown",
   "metadata": {},
   "source": [
    "## Looks good!"
   ]
  },
  {
   "cell_type": "code",
   "execution_count": null,
   "metadata": {
    "collapsed": true
   },
   "outputs": [],
   "source": []
  }
 ],
 "metadata": {
  "kernelspec": {
   "display_name": "Python 3",
   "language": "python",
   "name": "python3"
  },
  "language_info": {
   "codemirror_mode": {
    "name": "ipython",
    "version": 3
   },
   "file_extension": ".py",
   "mimetype": "text/x-python",
   "name": "python",
   "nbconvert_exporter": "python",
   "pygments_lexer": "ipython3",
   "version": "3.6.3"
  }
 },
 "nbformat": 4,
 "nbformat_minor": 2
}
